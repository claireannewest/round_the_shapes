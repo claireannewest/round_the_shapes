{
 "cells": [
  {
   "cell_type": "code",
   "execution_count": 1,
   "id": "e4212ed6",
   "metadata": {},
   "outputs": [],
   "source": [
    "import numpy as np\n",
    "import matplotlib.pyplot as plt\n",
    "from make_curved_hexagon import Round_Hexagon\n",
    "rad=5\n",
    "rh = Round_Hexagon(rad=rad)\n",
    "shapefile_original = np.loadtxt('shape.dat', skiprows=7)"
   ]
  },
  {
   "cell_type": "code",
   "execution_count": null,
   "id": "1b806ccb",
   "metadata": {},
   "outputs": [],
   "source": [
    "def round_yz(shape_org):\n",
    "    newshape_yz = []\n",
    "    sortedx = sorted(list(set(shape_org[:,0])))\n",
    "    total_points = 0\n",
    "    for xslice in sortedx:\n",
    "        slicei = np.where(shape_org[:,0] == xslice)[0]\n",
    "        ptns_without_1, _ = rh.remove_yz1(sharpcorners=shape_org[slicei,:])\n",
    "        ptns_without_2, _ = rh.remove_yz2(sharpcorners=ptns_without_1)\n",
    "        ptns_without_3, _ = rh.remove_yz3(sharpcorners=ptns_without_2)\n",
    "        ptns_without_4, _ = rh.remove_yz4(sharpcorners=ptns_without_3)\n",
    "        ptns_without_5, _ = rh.remove_yz5(sharpcorners=ptns_without_4)\n",
    "        ptns_without_6, _ = rh.remove_yz6(sharpcorners=ptns_without_5)\n",
    "        newshape_yz.append(ptns_without_6)\n",
    "        total_points += len(ptns_without_6)\n",
    "    shape_curved_yz = np.zeros((total_points, 4))\n",
    "    num_in_slice = newshape_yz[0].shape[0]\n",
    "    for i in range(len(newshape_yz)):\n",
    "        shape_curved_yz[i*num_in_slice : num_in_slice*(i+1),0] = newshape_yz[i][:,0]\n",
    "        shape_curved_yz[i*num_in_slice : num_in_slice*(i+1),1] = newshape_yz[i][:,1]\n",
    "        shape_curved_yz[i*num_in_slice : num_in_slice*(i+1),2] = newshape_yz[i][:,2]\n",
    "        shape_curved_yz[i*num_in_slice : num_in_slice*(i+1),3] = newshape_yz[i][:,3]\n",
    "    return shape_curved_yz\n",
    "\n",
    "def round_xy(shape_org):\n",
    "    newshape_xy = []\n",
    "    sortedz = sorted(list(set(shape_org[:,2])))\n",
    "    total_points = 0\n",
    "    for zslice in sortedz:\n",
    "        slicei = np.where(shape_org[:, 2] == zslice)[0]\n",
    "        ptns_without_1, _ = rh.remove_yx1(sharpcorners=shape_org[slicei,:])\n",
    "        ptns_without_2, _ = rh.remove_yx2(sharpcorners=ptns_without_1)\n",
    "        ptns_without_3, _ = rh.remove_yx3(sharpcorners=ptns_without_2)\n",
    "        ptns_without_4, _ = rh.remove_yx4(sharpcorners=ptns_without_3)\n",
    "        newshape_xy.append(ptns_without_4)\n",
    "        total_points += len(ptns_without_4)\n",
    "    shape_curved_xy = np.zeros((total_points, 4))\n",
    "    num_upto_prev_slice = 0\n",
    "    for i in range(len(newshape_xy)):\n",
    "        num_in_curr_slice = len(newshape_xy[i][:,0])\n",
    "        shape_curved_xy[num_upto_prev_slice : num_upto_prev_slice+num_in_curr_slice, 0] = newshape_xy[i][:,0]\n",
    "        shape_curved_xy[num_upto_prev_slice : num_upto_prev_slice+num_in_curr_slice, 1] = newshape_xy[i][:,1]\n",
    "        shape_curved_xy[num_upto_prev_slice : num_upto_prev_slice+num_in_curr_slice, 2] = newshape_xy[i][:,2]\n",
    "        shape_curved_xy[num_upto_prev_slice : num_upto_prev_slice+num_in_curr_slice, 3] = newshape_xy[i][:,3]\n",
    "        num_upto_prev_slice = num_upto_prev_slice + num_in_curr_slice\n",
    "    return shape_curved_xy\n",
    "\n",
    "\n",
    "def round_xz(shape_org):\n",
    "    newshape_xz = []\n",
    "    sortedy = sorted(list(set(shape_org[:,1])))\n",
    "    total_points = 0\n",
    "    for yslice in sortedy:\n",
    "        slicei = np.where(shape_org[:, 1] == yslice)[0]\n",
    "        ptns_without_1, _ = rh.remove_zx1(sharpcorners=shape_org[slicei,:])\n",
    "        ptns_without_2, _ = rh.remove_zx2(sharpcorners=ptns_without_1)\n",
    "        ptns_without_3, _ = rh.remove_zx3(sharpcorners=ptns_without_2)\n",
    "        ptns_without_4, _ = rh.remove_zx4(sharpcorners=ptns_without_3)\n",
    "        newshape_xz.append(ptns_without_4)\n",
    "        total_points += len(ptns_without_4)\n",
    "    shape_curved_xz = np.zeros((total_points, 4))\n",
    "    num_upto_prev_slice = 0\n",
    "    for i in range(len(newshape_xz)):\n",
    "        num_in_curr_slice = len(newshape_xz[i][:,0])\n",
    "        shape_curved_xz[num_upto_prev_slice : num_upto_prev_slice+num_in_curr_slice, 0] = newshape_xz[i][:,0]\n",
    "        shape_curved_xz[num_upto_prev_slice : num_upto_prev_slice+num_in_curr_slice, 1] = newshape_xz[i][:,1]\n",
    "        shape_curved_xz[num_upto_prev_slice : num_upto_prev_slice+num_in_curr_slice, 2] = newshape_xz[i][:,2]\n",
    "        shape_curved_xz[num_upto_prev_slice : num_upto_prev_slice+num_in_curr_slice, 3] = newshape_xz[i][:,3]\n",
    "        num_upto_prev_slice = num_upto_prev_slice+num_in_curr_slice\n",
    "    return shape_curved_xz\n",
    "\n",
    "rounded_yz = round_yz(shape_org=shapefile_original[:,1:5]) \n",
    "rounded_xy = round_xy(shape_org=rounded_yz) \n",
    "all_rounded = round_xz(shape_org=rounded_xy) "
   ]
  },
  {
   "cell_type": "code",
   "execution_count": 6,
   "id": "21698ffd",
   "metadata": {},
   "outputs": [
    {
     "name": "stdout",
     "output_type": "stream",
     "text": [
      "120747\n",
      "116373\n"
     ]
    }
   ],
   "source": [
    "print(len(shapefile_original[:,1:5]))\n",
    "print(len(all_rounded))"
   ]
  },
  {
   "cell_type": "code",
   "execution_count": 3,
   "id": "f44c314e",
   "metadata": {},
   "outputs": [
    {
     "data": {
      "image/png": "[encoded data removed]",
      "text/plain": [
       "<Figure size 864x288 with 3 Axes>"
      ]
     },
     "metadata": {
      "needs_background": "light"
     },
     "output_type": "display_data"
    }
   ],
   "source": [
    "fig, ax = plt.subplots(1,3, figsize=[12,4])\n",
    "ax[0].scatter(all_rounded[:,1], all_rounded[:,2])\n",
    "ax[0].axis('equal');\n",
    "\n",
    "ax[1].scatter(all_rounded[:,2], all_rounded[:,0])\n",
    "ax[1].axis('equal');\n",
    "\n",
    "ax[2].scatter(all_rounded[:,1], all_rounded[:,0])\n",
    "ax[2].axis('equal');"
   ]
  },
  {
   "cell_type": "code",
   "execution_count": 4,
   "id": "1ea12c82",
   "metadata": {},
   "outputs": [],
   "source": [
    "## Rewrite shape file with curves\n",
    "file = open('shape_curved.dat','w')\n",
    "\n",
    "N = all_rounded.shape[0]\n",
    "x = all_rounded[:,0]\n",
    "y = all_rounded[:,1]\n",
    "z = all_rounded[:,2]\n",
    "ICOMP = all_rounded[:,3]\n",
    "\n",
    "file.write(str(' Hexagon with rounded corners, r = ') + str(rad) + '\\n')\n",
    "file.write('\\t' + str(N) + str(' = number of dipoles in target') + '\\n')\n",
    "file.write(str(' 1.000000 0.000000 0.000000 = A_1 vector') + '\\n')\n",
    "file.write(str(' 0.000000 1.000000 0.000000 = A_2 vector') + '\\n')\n",
    "file.write(str(' 1.000000 1.000000 1.000000 = (d_x,d_y,d_z)/d') + '\\n')\n",
    "file.write(str(' 0.000000 0.000000 0.000000 = (x,y,z)/d') + '\\n')\n",
    "file.write(str(' JA  IX  IY  IZ ICOMP(x,y,z)') + '\\n')\n",
    "count = 0\n",
    "for j in range(0, N):\n",
    "    count = count+1\n",
    "    file.write('\\t' + str(count) + '\\t' + str(int(x[j])) + '\\t' + str(int(y[j])) + '\\t' + str(int(z[j])) + '\\t' + str(int(ICOMP[j])) + '\\t' + str(int(ICOMP[j])) + '\\t' + str(int(ICOMP[j])) + '\\n')\n",
    "file.close()\n",
    "\n",
    "\n"
   ]
  },
  {
   "cell_type": "code",
   "execution_count": null,
   "id": "fbacbd7f",
   "metadata": {},
   "outputs": [],
   "source": []
  }
 ],
 "metadata": {
  "kernelspec": {
   "display_name": "Python 3 (ipykernel)",
   "language": "python",
   "name": "python3"
  },
  "language_info": {
   "codemirror_mode": {
    "name": "ipython",
    "version": 3
   },
   "file_extension": ".py",
   "mimetype": "text/x-python",
   "name": "python",
   "nbconvert_exporter": "python",
   "pygments_lexer": "ipython3",
   "version": "3.8.11"
  }
 },
 "nbformat": 4,
 "nbformat_minor": 5
}
